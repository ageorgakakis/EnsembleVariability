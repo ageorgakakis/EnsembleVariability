{
 "cells": [
  {
   "cell_type": "markdown",
   "id": "accessory-column",
   "metadata": {},
   "source": [
    "Example of the Empirical Variability Model class: compare the Empirical Model with observations of the excess variance as a function of luminosity. This examples uses functions from the genfun.py module"
   ]
  },
  {
   "cell_type": "code",
   "execution_count": 1,
   "id": "persistent-premium",
   "metadata": {},
   "outputs": [],
   "source": [
    "import sys\n",
    "sys.path.append(\"..\")\n",
    "import ensvar as var\n",
    "import genfun \n",
    "import astropy.io.fits as fits\n",
    "import numpy"
   ]
  },
  {
   "cell_type": "markdown",
   "id": "hairy-light",
   "metadata": {},
   "source": [
    "Read the mock AGN catalogue as well as the datapoints from Figure 5 of [Paolillo et al. 2017](https://ui.adsabs.harvard.edu/abs/2017MNRAS.471.4398P/abstract). The SIM.fits can be downloaded from [https://zenodo.org/record/4725121](https://zenodo.org/record/4725121) and placed under the DATA subdirectory. "
   ]
  },
  {
   "cell_type": "code",
   "execution_count": 2,
   "id": "veterinary-working",
   "metadata": {},
   "outputs": [],
   "source": [
    "hdu = fits.open(\"../DATA/SIM.fits\")\n",
    "data=hdu[1].data\n",
    "hdu.close()\n",
    "D = genfun.readDATA(\"../DATA/data_Fig5_Paolillo+2017.dat\")"
   ]
  },
  {
   "cell_type": "markdown",
   "id": "comic-louisville",
   "metadata": {},
   "source": [
    "Read the [Paolillo et al. 2017](https://ui.adsabs.harvard.edu/abs/2017MNRAS.471.4398P/abstract) CDFS-7Ms selection function. Then assign weights to the mock AGN based on that selection function. The relevant column in the mock catalogue is the `FT`, which is the 0.5-7keV flux of each mock AGN. "
   ]
  },
  {
   "cell_type": "code",
   "execution_count": 3,
   "id": "upset-grocery",
   "metadata": {},
   "outputs": [],
   "source": [
    "# the lines below can be uncommented to take into \n",
    "# account the Paolillo+17 CDFS-7Ms selection function\n",
    "# They create weights for each mock AGN which\n",
    "# represent the probability of beinh inlcuded in the\n",
    "# Paolillo+17 CDFS-7Ms variability sample. \n",
    "\n",
    "hdu = fits.open(\"../DATA/CDF7Ms_selection.fits\")\n",
    "lgf=hdu[1].data['LGFLUX057']\n",
    "prob = hdu[1].data['PROB']\n",
    "hdu.close()\n",
    "weight = numpy.interp(data['FT'], lgf, prob)"
   ]
  },
  {
   "cell_type": "markdown",
   "id": "floral-rolling",
   "metadata": {},
   "source": [
    "Set up the Empirical Variability Model in the redshift range 0.4-4 and for the variability timescales 0.25-6205 days. The adopted black-hole mass vs stellar-mass scaling relation is that of [Shankar et al. (2020)](https://ui.adsabs.harvard.edu/abs/2020NatAs...4..282S/abstract) based on the dynamically derived black-hole masses estimated by [Savorgnan et al. (2016)](https://ui.adsabs.harvard.edu/abs/2016ApJ...817...21S/abstract), `GETMBHMSTAR_SAV_SIGMA`. The redshift interval and the timescales are the same as in Paolillo+2017."
   ]
  },
  {
   "cell_type": "code",
   "execution_count": 4,
   "id": "ignored-terrace",
   "metadata": {},
   "outputs": [],
   "source": [
    "Model = 'Model3'\n",
    "ZMIN= 0.4\n",
    "ZMAX= 4.0\n",
    "DMINOBS=0.25;DMAXOBS=6205\n",
    "EM=var.EmpMo(data=data, ZMIN=ZMIN, ZMAX=ZMAX, PSDfun=Model, MMfun=var.GETMBHMSTAR_SAV_SIGMA, LEDDfun=var.GETLGLEDD)\n",
    "EM.updateSTRUCT()\n",
    "EM.sigma2(DMINOBS, DMAXOBS)\n",
    "\n",
    "# converts 2-10keV luminosity to 0.5-7keV luminosity used by Paolillo+17. This conversion assumes\n",
    "# a power-law with G=1.9\n",
    "EM.DSTRUCT['LGLX'] = EM.DSTRUCT['LGLX'] + numpy.log10(1.507)\n",
    "\n",
    "# assign weigths to each mock AGN that account for the selection funcion\n",
    "EM.DSTRUCT['WEIGHTS'] = weight"
   ]
  },
  {
   "cell_type": "markdown",
   "id": "governmental-arkansas",
   "metadata": {},
   "source": [
    "Estimate the ensemble variance (mean of excess variance of individual sources) in luminosity bins of 0.5dex"
   ]
  },
  {
   "cell_type": "code",
   "execution_count": 5,
   "id": "determined-drink",
   "metadata": {},
   "outputs": [],
   "source": [
    "dlglx = 0.5\n",
    "bins=numpy.arange(41,47, dlglx)\n",
    "DTMINOBS=numpy.array([0.25]);DTMAXOBS=numpy.array([6205])\n",
    "array=numpy.ndarray([bins.size])\n",
    "array.fill(1e-10)\n",
    "\n",
    "indeces = numpy.digitize(EM.DSTRUCT['LGLX'], bins)\n",
    "possible = numpy.unique(indeces)\n",
    "for j in possible:\n",
    "    if(j>0 and j<bins.size):\n",
    "        ci = indeces == j\n",
    "        array[j-1] = numpy.average(a=EM.DSTRUCT['SIGMA2O'][ci], weights=EM.DSTRUCT['WEIGHT'][ci])\n"
   ]
  },
  {
   "cell_type": "markdown",
   "id": "coordinated-breast",
   "metadata": {},
   "source": [
    "Plot results"
   ]
  },
  {
   "cell_type": "code",
   "execution_count": 6,
   "id": "liable-frame",
   "metadata": {},
   "outputs": [
    {
     "data": {
      "text/plain": [
       "Text(0.18, 0.23, '$M_{star}-M_{BH}$:  Savorgnan+16 ')"
      ]
     },
     "execution_count": 6,
     "metadata": {},
     "output_type": "execute_result"
    },
    {
     "data": {
      "image/png": "[encoded data removed]",
      "text/plain": [
       "<Figure size 432x288 with 1 Axes>"
      ]
     },
     "metadata": {
      "needs_background": "light"
     },
     "output_type": "display_data"
    }
   ],
   "source": [
    "import matplotlib.pyplot as plt\n",
    "fig, ax = plt.subplots()\n",
    "            \n",
    "\n",
    "xobs = D['LGLX']\n",
    "xerr = [D['LGLX']-D['LGLXMIN'], D['LGLXMAX']-D['LGLX']]\n",
    "yerr= [numpy.minimum(D['ESIG2'], D['SIG2']*.99), D['ESIG2']]\n",
    "yobs=D['SIG2']\n",
    "           \n",
    "ax.errorbar(xobs, yobs, xerr=xerr, yerr=yerr, fmt='o', c=\"k\")        \n",
    "            \n",
    "ax.plot(bins+dlglx/2, array, \"-\", color='red', linewidth=2.0, label='Model1')\n",
    "        \n",
    "ax.set_yscale('log');ax.set_yscale('log')\n",
    "ax.axis([41.5,45.5,0.005,5])\n",
    "ax.xaxis.set_ticks([42,43,44,45])\n",
    "ax.grid()\n",
    "ax.legend()\n",
    "ax.set_xlabel(r'$\\log L_X(\\rm 0.5-8\\,keV)\\;\\;\\; (erg\\,s^{-1}$)')\n",
    "ax.set_ylabel(r'Normalised Excess Variance')\n",
    "plt.figtext(0.18, 0.18, r\"$\\Delta T={} - {}\\,d$\".format(DMINOBS, DMAXOBS))\n",
    "plt.figtext(0.18, 0.23, r'$M_{star}-M_{BH}$:  Savorgnan+16 ')    "
   ]
  },
  {
   "cell_type": "markdown",
   "id": "faced-grave",
   "metadata": {},
   "source": [
    "The same comparison using all 4 PSD models of Paolillo+17 can be done by calling the genfun.plotmodel function."
   ]
  },
  {
   "cell_type": "code",
   "execution_count": null,
   "id": "proof-reservation",
   "metadata": {
    "scrolled": true
   },
   "outputs": [],
   "source": [
    "genfun.plotmodel()"
   ]
  },
  {
   "cell_type": "code",
   "execution_count": null,
   "id": "standard-phoenix",
   "metadata": {},
   "outputs": [],
   "source": []
  }
 ],
 "metadata": {
  "kernelspec": {
   "display_name": "Python 3",
   "language": "python",
   "name": "python3"
  },
  "language_info": {
   "codemirror_mode": {
    "name": "ipython",
    "version": 3
   },
   "file_extension": ".py",
   "mimetype": "text/x-python",
   "name": "python",
   "nbconvert_exporter": "python",
   "pygments_lexer": "ipython3",
   "version": "3.7.10"
  }
 },
 "nbformat": 4,
 "nbformat_minor": 5
}
